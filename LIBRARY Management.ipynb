{
 "cells": [
  {
   "cell_type": "code",
   "execution_count": 4,
   "id": "44e49927-6269-4960-b5c7-db2b51342bd6",
   "metadata": {},
   "outputs": [],
   "source": [
    "import sqlite3\n",
    "conn = sqlite3.connect(\"library.db\")\n",
    "cursor = conn.cursor()\n",
    "cursor.execute('''\n",
    "CREATE TABLE IF NOT EXISTS stu_books (\n",
    "    id INTEGER PRIMARY KEY AUTOINCREMENT,\n",
    "    title TEXT NOT NULL,\n",
    "    author TEXT NOT NULL,\n",
    "    year INTEGER,\n",
    "    isbn TEXT UNIQUE\n",
    ")\n",
    "''')\n",
    "conn.commit()"
   ]
  },
  {
   "cell_type": "code",
   "execution_count": 5,
   "id": "a0f329cc-47c4-4cb7-aa81-a8cec8ebf294",
   "metadata": {},
   "outputs": [],
   "source": [
    "#add new book\n",
    "def add_stu_books(title, author, year, isbn):\n",
    "    cursor.execute(\"INSERT INTO stu_books (title, author, year, isbn) VALUES (?, ?, ?, ?)\",\n",
    "                   (title, author, year, isbn))\n",
    "    conn.commit()\n",
    "    print(\"Book added successfully!\")\n"
   ]
  },
  {
   "cell_type": "code",
   "execution_count": null,
   "id": "97d20f8b-bfad-43bc-aeec-1c51fd2acd63",
   "metadata": {},
   "outputs": [],
   "source": [
    "#view books\n",
    "def view_stu_books():\n",
    "    cursor.execute(\"SELECT * FROM stu_books\")\n",
    "    rows = cursor.fetchall()\n",
    "    print(\"\\nAll Books:\")\n",
    "    for row in rows:\n",
    "        print(row)\n"
   ]
  },
  {
   "cell_type": "code",
   "execution_count": null,
   "id": "e7068459-05fa-41d4-9c02-20a329954d10",
   "metadata": {},
   "outputs": [],
   "source": [
    "#search for a book\n",
    "def search_stu_books(title=\"\", author=\"\", year=None, isbn=\"\"):\n",
    "    cursor.execute('''\n",
    "        SELECT * FROM stu_books WHERE\n",
    "        title LIKE ? AND\n",
    "        author LIKE ? AND\n",
    "        (year = ? OR ? IS NULL) AND\n",
    "        isbn LIKE ?\n",
    "    ''', (f'%{title}%', f'%{author}%', year, year, f'%{isbn}%'))\n",
    "    rows = cursor.fetchall()\n",
    "    print(\"\\nSearch Results:\")\n",
    "    for row in rows:\n",
    "        print(row)\n"
   ]
  },
  {
   "cell_type": "code",
   "execution_count": null,
   "id": "64ce9cbd-fbf5-48d2-b851-71913f5d8a10",
   "metadata": {},
   "outputs": [],
   "source": [
    "#update a book\n",
    "def update_stu_books(book_id, title, author, year, isbn):\n",
    "    cursor.execute('''\n",
    "        UPDATE stu_books\n",
    "        SET title = ?, author = ?, year = ?, isbn = ?\n",
    "        WHERE id = ?\n",
    "    ''', (title, author, year, isbn, book_id))\n",
    "    conn.commit()\n",
    "    print(\"Book updated successfully!\")"
   ]
  },
  {
   "cell_type": "code",
   "execution_count": null,
   "id": "e8881eb1-ab99-4412-9d10-9c6a4bf83c50",
   "metadata": {},
   "outputs": [],
   "source": [
    "#delete a book\n",
    "def delete_book(book_id):\n",
    "    cursor.execute(\"DELETE FROM books WHERE id = ?\", (book_id,))\n",
    "    conn.commit()\n",
    "    print(\"Book deleted successfully!\")"
   ]
  },
  {
   "cell_type": "code",
   "execution_count": 7,
   "id": "1d51e625-57d9-4ed2-aa6e-162a395dfeac",
   "metadata": {},
   "outputs": [
    {
     "name": "stdout",
     "output_type": "stream",
     "text": [
      "\n",
      "Library Management System\n",
      "1. Add Book\n",
      "2. View All Books\n",
      "3. Search Book\n",
      "4. Update Book\n",
      "5. Delete Book\n",
      "6. Exit\n"
     ]
    },
    {
     "name": "stdin",
     "output_type": "stream",
     "text": [
      "Enter your choice (1-6):  1\n",
      "Enter title:  NO ONE CRY WHEN U DIE\n",
      "Enter author:  ROBIN SHARMA\n",
      "Enter year:  1998\n",
      "Enter ISBN:  234785961\n"
     ]
    },
    {
     "ename": "NameError",
     "evalue": "name 'add_book' is not defined",
     "output_type": "error",
     "traceback": [
      "\u001b[1;31m---------------------------------------------------------------------------\u001b[0m",
      "\u001b[1;31mNameError\u001b[0m                                 Traceback (most recent call last)",
      "Cell \u001b[1;32mIn[7], line 53\u001b[0m\n\u001b[0;32m     50\u001b[0m     conn\u001b[38;5;241m.\u001b[39mclose()\n\u001b[0;32m     52\u001b[0m \u001b[38;5;28;01mif\u001b[39;00m \u001b[38;5;18m__name__\u001b[39m \u001b[38;5;241m==\u001b[39m \u001b[38;5;124m\"\u001b[39m\u001b[38;5;124m__main__\u001b[39m\u001b[38;5;124m\"\u001b[39m:\n\u001b[1;32m---> 53\u001b[0m     main()\n",
      "Cell \u001b[1;32mIn[7], line 19\u001b[0m, in \u001b[0;36mmain\u001b[1;34m()\u001b[0m\n\u001b[0;32m     17\u001b[0m     year \u001b[38;5;241m=\u001b[39m \u001b[38;5;28mint\u001b[39m(\u001b[38;5;28minput\u001b[39m(\u001b[38;5;124m\"\u001b[39m\u001b[38;5;124mEnter year: \u001b[39m\u001b[38;5;124m\"\u001b[39m))\n\u001b[0;32m     18\u001b[0m     isbn \u001b[38;5;241m=\u001b[39m \u001b[38;5;28minput\u001b[39m(\u001b[38;5;124m\"\u001b[39m\u001b[38;5;124mEnter ISBN: \u001b[39m\u001b[38;5;124m\"\u001b[39m)\n\u001b[1;32m---> 19\u001b[0m     add_book(title, author, year, isbn)\n\u001b[0;32m     21\u001b[0m \u001b[38;5;28;01melif\u001b[39;00m choice \u001b[38;5;241m==\u001b[39m \u001b[38;5;124m\"\u001b[39m\u001b[38;5;124m2\u001b[39m\u001b[38;5;124m\"\u001b[39m:\n\u001b[0;32m     22\u001b[0m     view_books()\n",
      "\u001b[1;31mNameError\u001b[0m: name 'add_book' is not defined"
     ]
    }
   ],
   "source": [
    "#main fuction\n",
    "def main():\n",
    "    while True:\n",
    "        print(\"\\nLibrary Management System\")\n",
    "        print(\"1. Add Book\")\n",
    "        print(\"2. View All Books\")\n",
    "        print(\"3. Search Book\")\n",
    "        print(\"4. Update Book\")\n",
    "        print(\"5. Delete Book\")\n",
    "        print(\"6. Exit\")\n",
    "\n",
    "        choice = input(\"Enter your choice (1-6): \")\n",
    "\n",
    "        if choice == \"1\":\n",
    "            title = input(\"Enter title: \")\n",
    "            author = input(\"Enter author: \")\n",
    "            year = int(input(\"Enter year: \"))\n",
    "            isbn = input(\"Enter ISBN: \")\n",
    "            add_book(title, author, year, isbn)\n",
    "\n",
    "        elif choice == \"2\":\n",
    "            view_books()\n",
    "\n",
    "        elif choice == \"3\":\n",
    "            title = input(\"Enter title to search: \")\n",
    "            author = input(\"Enter author to search: \")\n",
    "            year_input = input(\"Enter year to search (or leave blank): \")\n",
    "            year = int(year_input) if year_input else None\n",
    "            isbn = input(\"Enter ISBN to search: \")\n",
    "            search_book(title, author, year, isbn)\n",
    "\n",
    "        elif choice == \"4\":\n",
    "            book_id = int(input(\"Enter book ID to update: \"))\n",
    "            title = input(\"Enter new title: \")\n",
    "            author = input(\"Enter new author: \")\n",
    "            year = int(input(\"Enter new year: \"))\n",
    "            isbn = input(\"Enter new ISBN: \")\n",
    "            update_book(book_id, title, author, year, isbn)\n",
    "\n",
    "        elif choice == \"5\":\n",
    "            book_id = int(input(\"Enter book ID to delete: \"))\n",
    "            delete_book(book_id)\n",
    "\n",
    "        elif choice == \"6\":\n",
    "            print(\"Exiting system...\")\n",
    "            break\n",
    "        else:\n",
    "            print(\"Invalid choice. Please try again.\")\n",
    "\n",
    "    conn.close()\n",
    "\n",
    "if __name__ == \"__main__\":\n",
    "    main()"
   ]
  },
  {
   "cell_type": "code",
   "execution_count": null,
   "id": "81024629-e313-4d2d-a000-f73961c0fc46",
   "metadata": {},
   "outputs": [],
   "source": []
  },
  {
   "cell_type": "code",
   "execution_count": null,
   "id": "a9348b16-2fc7-44d2-8de6-5424142b0c78",
   "metadata": {},
   "outputs": [],
   "source": []
  }
 ],
 "metadata": {
  "kernelspec": {
   "display_name": "Python 3 (ipykernel)",
   "language": "python",
   "name": "python3"
  },
  "language_info": {
   "codemirror_mode": {
    "name": "ipython",
    "version": 3
   },
   "file_extension": ".py",
   "mimetype": "text/x-python",
   "name": "python",
   "nbconvert_exporter": "python",
   "pygments_lexer": "ipython3",
   "version": "3.13.5"
  }
 },
 "nbformat": 4,
 "nbformat_minor": 5
}
