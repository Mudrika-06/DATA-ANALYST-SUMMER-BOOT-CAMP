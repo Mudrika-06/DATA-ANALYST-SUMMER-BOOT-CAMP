{
 "cells": [
  {
   "cell_type": "code",
   "execution_count": 1,
   "id": "19bba775-d076-450c-ae73-9c9429c1e7da",
   "metadata": {},
   "outputs": [
    {
     "name": "stdout",
     "output_type": "stream",
     "text": [
      "A\n"
     ]
    }
   ],
   "source": [
    "x = 10\n",
    "if x > 5:\n",
    "    print('A')\n",
    "elif x > 3:\n",
    "    print('B')\n",
    "else:\n",
    "    print('C')\n"
   ]
  },
  {
   "cell_type": "code",
   "execution_count": 2,
   "id": "8b82c82b-fed4-4f94-b361-2f6e664968cd",
   "metadata": {},
   "outputs": [
    {
     "name": "stdout",
     "output_type": "stream",
     "text": [
      "No\n"
     ]
    }
   ],
   "source": [
    "x = 4\n",
    "y = 2\n",
    "if x > 2:\n",
    "    if y > 3:\n",
    "        print('Yes')\n",
    "    else:\n",
    "        print('No')\n"
   ]
  },
  {
   "cell_type": "code",
   "execution_count": 3,
   "id": "7c6873bb-56ce-4d26-a17f-9abb872b5ebf",
   "metadata": {},
   "outputs": [
    {
     "name": "stdout",
     "output_type": "stream",
     "text": [
      "High\n"
     ]
    }
   ],
   "source": [
    "x = 7\n",
    "if x > 5:\n",
    "    print('High')\n",
    "else:\n",
    "    print('Low')\n"
   ]
  },
  {
   "cell_type": "code",
   "execution_count": 4,
   "id": "650f7f27-0113-45fc-9372-07c959d0cafe",
   "metadata": {},
   "outputs": [
    {
     "name": "stdout",
     "output_type": "stream",
     "text": [
      "Pass\n"
     ]
    }
   ],
   "source": [
    "marks = 45\n",
    "if marks >= 40:\n",
    "    print('Pass')\n",
    "else:\n",
    "    print('Fail')\n"
   ]
  },
  {
   "cell_type": "code",
   "execution_count": 5,
   "id": "de024f79-0ff0-4719-9a52-747a13436c5b",
   "metadata": {},
   "outputs": [
    {
     "name": "stdout",
     "output_type": "stream",
     "text": [
      "Three\n"
     ]
    }
   ],
   "source": [
    "x = 3\n",
    "if x == 5:\n",
    "    print('Five')\n",
    "elif x == 3:\n",
    "    print('Three')\n",
    "else:\n",
    "    print('Other')\n"
   ]
  },
  {
   "cell_type": "code",
   "execution_count": 6,
   "id": "6da7a31f-adcb-4dd4-aced-7429dec92184",
   "metadata": {},
   "outputs": [
    {
     "name": "stdin",
     "output_type": "stream",
     "text": [
      "Enter a number:  2\n"
     ]
    },
    {
     "name": "stdout",
     "output_type": "stream",
     "text": [
      "Positive number\n"
     ]
    }
   ],
   "source": [
    "a= float(input(\"Enter a number: \"))\n",
    "\n",
    "if a > 0:\n",
    "    print(\"Positive number\")\n",
    "elif a < 0:\n",
    "    print(\"Negative number\")\n",
    "else:\n",
    "    print(\"Zero\")\n"
   ]
  },
  {
   "cell_type": "code",
   "execution_count": 7,
   "id": "fbdf33fb-54fb-434a-81cc-25a055ce54d9",
   "metadata": {},
   "outputs": [
    {
     "name": "stdin",
     "output_type": "stream",
     "text": [
      "Enter your age:  20\n"
     ]
    },
    {
     "name": "stdout",
     "output_type": "stream",
     "text": [
      "Adult\n"
     ]
    }
   ],
   "source": [
    "age = int(input(\"Enter your age: \"))\n",
    "\n",
    "if age < 13:\n",
    "    print(\"Child\")\n",
    "elif age < 18:\n",
    "    print(\"Teen\")\n",
    "else:\n",
    "    print(\"Adult\")\n"
   ]
  },
  {
   "cell_type": "code",
   "execution_count": 8,
   "id": "8bbb1d48-bfce-4b03-a3f6-25061a2b1cef",
   "metadata": {},
   "outputs": [
    {
     "name": "stdin",
     "output_type": "stream",
     "text": [
      "Enter a number:  18\n"
     ]
    },
    {
     "name": "stdout",
     "output_type": "stream",
     "text": [
      "The number is even\n",
      "It is also greater than 10\n"
     ]
    }
   ],
   "source": [
    "a = int(input(\"Enter a number: \"))\n",
    "\n",
    "if a % 2 == 0:\n",
    "    print(\"The number is even\")\n",
    "    if a > 10:\n",
    "        print(\"It is also greater than 10\")\n",
    "    else:\n",
    "        print(\"It is not greater than 10\")\n",
    "else:\n",
    "    print(\"The number is odd\")\n"
   ]
  },
  {
   "cell_type": "code",
   "execution_count": 9,
   "id": "36cc749a-d0a3-4678-948a-58d4457a7a26",
   "metadata": {},
   "outputs": [
    {
     "name": "stdin",
     "output_type": "stream",
     "text": [
      "Enter your marks:  95\n"
     ]
    },
    {
     "name": "stdout",
     "output_type": "stream",
     "text": [
      "Grade: A\n"
     ]
    }
   ],
   "source": [
    "m = float(input(\"Enter your marks: \"))\n",
    "\n",
    "if m > 90:\n",
    "    print(\"Grade: A\")\n",
    "elif m > 75:\n",
    "    print(\"Grade: B\")\n",
    "elif m > 60:\n",
    "    print(\"Grade: C\")\n",
    "else:\n",
    "    print(\"Grade: Fail\")\n"
   ]
  },
  {
   "cell_type": "code",
   "execution_count": 10,
   "id": "cbaec6ea-a1af-4fe4-964b-caa120959f7c",
   "metadata": {},
   "outputs": [
    {
     "name": "stdin",
     "output_type": "stream",
     "text": [
      "Enter first number:  2\n",
      "Enter second number:  3\n",
      "Enter third number:  4\n"
     ]
    },
    {
     "name": "stdout",
     "output_type": "stream",
     "text": [
      "Greatest number is: 4.0\n"
     ]
    }
   ],
   "source": [
    "a = float(input(\"Enter first number: \"))\n",
    "b = float(input(\"Enter second number: \"))\n",
    "c = float(input(\"Enter third number: \"))\n",
    "\n",
    "if a > b:\n",
    "    if a > c:\n",
    "        print(\"Greatest number is:\", a)\n",
    "    else:\n",
    "        print(\"Greatest number is:\", c)\n",
    "else:\n",
    "    if b > c:\n",
    "        print(\"Greatest number is:\", b)\n",
    "    else:\n",
    "        print(\"Greatest number is:\", c)\n"
   ]
  },
  {
   "cell_type": "code",
   "execution_count": null,
   "id": "0f544764-ad82-4983-83d5-657c3e846a22",
   "metadata": {},
   "outputs": [],
   "source": []
  }
 ],
 "metadata": {
  "kernelspec": {
   "display_name": "Python 3 (ipykernel)",
   "language": "python",
   "name": "python3"
  },
  "language_info": {
   "codemirror_mode": {
    "name": "ipython",
    "version": 3
   },
   "file_extension": ".py",
   "mimetype": "text/x-python",
   "name": "python",
   "nbconvert_exporter": "python",
   "pygments_lexer": "ipython3",
   "version": "3.13.5"
  }
 },
 "nbformat": 4,
 "nbformat_minor": 5
}
