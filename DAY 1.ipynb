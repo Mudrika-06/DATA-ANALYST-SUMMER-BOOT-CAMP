{
 "cells": [
  {
   "cell_type": "code",
   "execution_count": 1,
   "id": "d9fa08ae-38b3-4706-899f-288c6fdd9322",
   "metadata": {},
   "outputs": [
    {
     "name": "stdout",
     "output_type": "stream",
     "text": [
      "98\n",
      "<class 'int'>\n"
     ]
    }
   ],
   "source": [
    "a= 98.6\n",
    "print(int(a))\n",
    "print(type(int(a)))\n"
   ]
  },
  {
   "cell_type": "code",
   "execution_count": 2,
   "id": "6c368b24-d94e-4d6e-ba06-396b21c96b03",
   "metadata": {},
   "outputs": [
    {
     "name": "stdout",
     "output_type": "stream",
     "text": [
      "True\n",
      "True\n"
     ]
    }
   ],
   "source": [
    "a=15\n",
    "b=10\n",
    "print(a>b)\n",
    "c=20\n",
    "d=25\n",
    "print(c<d)\n"
   ]
  },
  {
   "cell_type": "code",
   "execution_count": 3,
   "id": "ee4989a4-4627-43e5-b763-202500ed94fb",
   "metadata": {},
   "outputs": [
    {
     "name": "stdout",
     "output_type": "stream",
     "text": [
      "True\n"
     ]
    }
   ],
   "source": [
    "a= (15 > 10)\n",
    "b= (20 < 25)\n",
    "c= a and b\n",
    "print(c)\n"
   ]
  },
  {
   "cell_type": "code",
   "execution_count": 4,
   "id": "e613971b-c984-48cc-bea6-32d5447c3ea7",
   "metadata": {},
   "outputs": [
    {
     "name": "stdout",
     "output_type": "stream",
     "text": [
      "60.0\n"
     ]
    }
   ],
   "source": [
    "a=(15+5)\n",
    "b=(20-8)\n",
    "c= a*b\n",
    "d= c/4\n",
    "print(d)\n"
   ]
  },
  {
   "cell_type": "code",
   "execution_count": null,
   "id": "88ce5e4e-fa78-46a4-971c-45c6fbb48287",
   "metadata": {},
   "outputs": [],
   "source": []
  },
  {
   "cell_type": "code",
   "execution_count": null,
   "id": "f8882281-9a28-408a-9c83-739c639a782d",
   "metadata": {},
   "outputs": [],
   "source": []
  }
 ],
 "metadata": {
  "kernelspec": {
   "display_name": "Python 3 (ipykernel)",
   "language": "python",
   "name": "python3"
  },
  "language_info": {
   "codemirror_mode": {
    "name": "ipython",
    "version": 3
   },
   "file_extension": ".py",
   "mimetype": "text/x-python",
   "name": "python",
   "nbconvert_exporter": "python",
   "pygments_lexer": "ipython3",
   "version": "3.13.5"
  }
 },
 "nbformat": 4,
 "nbformat_minor": 5
}
